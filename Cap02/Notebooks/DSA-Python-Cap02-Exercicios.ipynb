{
  "metadata": {
    "kernelspec": {
      "name": "python",
      "display_name": "Python (Pyodide)",
      "language": "python"
    },
    "language_info": {
      "codemirror_mode": {
        "name": "python",
        "version": 3
      },
      "file_extension": ".py",
      "mimetype": "text/x-python",
      "name": "python",
      "nbconvert_exporter": "python",
      "pygments_lexer": "ipython3",
      "version": "3.8"
    }
  },
  "nbformat_minor": 4,
  "nbformat": 4,
  "cells": [
    {
      "cell_type": "markdown",
      "source": "# <font color='blue'>Data Science Academy - Python Fundamentos - Capítulo 2</font>\n\n## Download: http://github.com/dsacademybr",
      "metadata": {}
    },
    {
      "cell_type": "code",
      "source": "# Versão da Linguagem Python\nfrom platform import python_version\nprint('Versão da Linguagem Python Usada Neste Jupyter Notebook:', python_version())",
      "metadata": {},
      "execution_count": 1,
      "outputs": [
        {
          "name": "stdout",
          "output_type": "stream",
          "text": "Versão da Linguagem Python Usada Neste Jupyter Notebook: 3.8.8\n"
        }
      ]
    },
    {
      "cell_type": "markdown",
      "source": "## Exercícios Cap02",
      "metadata": {}
    },
    {
      "cell_type": "code",
      "source": "# Exercício 1 - Imprima na tela os números de 1 a 10. Use uma lista para armazenar os números.\nfor i in range(1,11):\n    print(i)",
      "metadata": {
        "trusted": true
      },
      "execution_count": 4,
      "outputs": [
        {
          "name": "stdout",
          "text": "1\n2\n3\n4\n5\n6\n7\n8\n9\n10\n",
          "output_type": "stream"
        }
      ]
    },
    {
      "cell_type": "code",
      "source": "# Exercício 2 - Crie uma lista de 5 objetos e imprima na tela\nnumeros = []\nfor i in range(5):\n    numeros.append(i)\nprint(numeros)",
      "metadata": {
        "trusted": true
      },
      "execution_count": 7,
      "outputs": [
        {
          "name": "stdout",
          "text": "[0, 1, 2, 3, 4]\n",
          "output_type": "stream"
        }
      ]
    },
    {
      "cell_type": "code",
      "source": "# Exercício 3 - Crie duas strings e concatene as duas em uma terceira string\nstring = \"Exo is\"\nstring_2 = \" One!\"\nstring_3 = string + string_2\n\nprint(string_3)",
      "metadata": {
        "trusted": true
      },
      "execution_count": 8,
      "outputs": [
        {
          "name": "stdout",
          "text": "Exo is One!\n",
          "output_type": "stream"
        }
      ]
    },
    {
      "cell_type": "code",
      "source": "# Exercício 4 - Crie uma tupla com os seguintes elementos: 1, 2, 2, 3, 4, 4, 4, 5 e depois utilize a função count do \n# objeto tupla para verificar quantas vezes o número 4 aparece na tupla\ntuple = (1, 2, 2, 3, 4, 4, 4, 5)\nprint(tuple.count(4))",
      "metadata": {
        "trusted": true
      },
      "execution_count": 20,
      "outputs": [
        {
          "name": "stdout",
          "text": "3\n",
          "output_type": "stream"
        }
      ]
    },
    {
      "cell_type": "code",
      "source": "# Exercício 5 - Crie um dicionário vazio e imprima na tela\ndict = {}\n\nprint(dict)",
      "metadata": {
        "trusted": true
      },
      "execution_count": 11,
      "outputs": [
        {
          "name": "stdout",
          "text": "{}\n",
          "output_type": "stream"
        }
      ]
    },
    {
      "cell_type": "code",
      "source": "# Exercício 6 - Crie um dicionário com 3 chaves e 3 valores e imprima na tela\ndict = {\n\"Nome\": 'Barbara', \n\"Sobrenome\": 'Marinheiro', \n\"Idade\": 23\n}\nprint(dict)",
      "metadata": {
        "trusted": true
      },
      "execution_count": 12,
      "outputs": [
        {
          "name": "stdout",
          "text": "{'Nome': 'Barbara', 'Sobrenome': 'Marinheiro', 'Idade': 23}\n",
          "output_type": "stream"
        }
      ]
    },
    {
      "cell_type": "code",
      "source": "# Exercício 7 - Adicione mais um elemento ao dicionário criado no exercício anterior e imprima na tela\ndict['Mode'] = 'Sad'\nprint(dict)",
      "metadata": {
        "trusted": true
      },
      "execution_count": 16,
      "outputs": [
        {
          "name": "stdout",
          "text": "{'Nome': 'Barbara', 'Sobrenome': 'Marinheiro', 'Idade': 23, 'Mode': 'Sad'}\n",
          "output_type": "stream"
        }
      ]
    },
    {
      "cell_type": "code",
      "source": "# Exercício 8 - Crie um dicionário com 3 chaves e 3 valores. Um dos valores deve ser uma lista de 2 elementos numéricos. \n# Imprima o dicionário na tela.\ndict = {\n    'Nome':'Barbara',\n    'Sobrenome':'Marinheiro',\n    'Fav_Numebers':[12, 13]\n}\nprint(dict)",
      "metadata": {
        "trusted": true
      },
      "execution_count": 17,
      "outputs": [
        {
          "name": "stdout",
          "text": "{'Nome': 'Barbara', 'Sobrenome': 'Marinheiro', 'Fav_Numebers': [12, 13]}\n",
          "output_type": "stream"
        }
      ]
    },
    {
      "cell_type": "code",
      "source": "# Exercício 9 - Crie uma lista de 4 elementos. O primeiro elemento deve ser uma string, \n# o segundo uma tupla de 2 elementos, o terceiro um dcionário com 2 chaves e 2 valores e \n# o quarto elemento um valor do tipo float.\n# Imprima a lista na tela.\nlist = [\"Barbara\", (1,2), {'Utt':'Sehun', 'fav_person':'Baekhyun'}, 0.4]\nprint(list)",
      "metadata": {
        "trusted": true
      },
      "execution_count": 18,
      "outputs": [
        {
          "name": "stdout",
          "text": "['Barbara', (1, 2), {'Utt': 'Sehun', 'fav_person': 'Baekhyun'}, 0.4]\n",
          "output_type": "stream"
        }
      ]
    },
    {
      "cell_type": "code",
      "source": "# Exercício 10 - Considere a string abaixo. Imprima na tela apenas os caracteres da posição 1 a 18.\nfrase = 'Cientista de Dados é o profissional mais sexy do século XXI'\nprint(frase[0:18])",
      "metadata": {
        "trusted": true
      },
      "execution_count": 21,
      "outputs": [
        {
          "name": "stdout",
          "text": "Cientista de Dados\n",
          "output_type": "stream"
        }
      ]
    },
    {
      "cell_type": "markdown",
      "source": "# Fim",
      "metadata": {}
    },
    {
      "cell_type": "markdown",
      "source": "### Obrigado\n\n### Visite o Blog da Data Science Academy - <a href=\"http://blog.dsacademy.com.br\">Blog DSA</a>",
      "metadata": {}
    },
    {
      "cell_type": "markdown",
      "source": "Parabéns se você chegou até aqui. Use o voucher PYTHONDSA9642 para comprar qualquer curso ou Formação da DSA com 5% de desconto.",
      "metadata": {}
    }
  ]
}